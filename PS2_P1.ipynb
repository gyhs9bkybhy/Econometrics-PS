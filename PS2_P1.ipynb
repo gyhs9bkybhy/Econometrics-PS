{
 "cells": [
  {
   "cell_type": "code",
   "execution_count": 19,
   "metadata": {},
   "outputs": [],
   "source": [
    "import pandas as pd\n",
    "import numpy as np\n",
    "import scipy.stats as stats"
   ]
  },
  {
   "cell_type": "code",
   "execution_count": 20,
   "metadata": {},
   "outputs": [],
   "source": [
    "wage = pd.read_excel(r'C:\\Users\\Yunhan Guo\\Desktop\\2023 Fall\\P218 Econometrics1\\Problem Sets\\PS2\\wage.xlsx')\n",
    "wage['lwage'] = np.log(wage['wage'])"
   ]
  },
  {
   "cell_type": "code",
   "execution_count": 21,
   "metadata": {},
   "outputs": [
    {
     "data": {
      "text/html": [
       "<div>\n",
       "<style scoped>\n",
       "    .dataframe tbody tr th:only-of-type {\n",
       "        vertical-align: middle;\n",
       "    }\n",
       "\n",
       "    .dataframe tbody tr th {\n",
       "        vertical-align: top;\n",
       "    }\n",
       "\n",
       "    .dataframe thead th {\n",
       "        text-align: right;\n",
       "    }\n",
       "</style>\n",
       "<table border=\"1\" class=\"dataframe\">\n",
       "  <thead>\n",
       "    <tr style=\"text-align: right;\">\n",
       "      <th></th>\n",
       "      <th>male</th>\n",
       "      <th>wage</th>\n",
       "      <th>lwage</th>\n",
       "    </tr>\n",
       "  </thead>\n",
       "  <tbody>\n",
       "    <tr>\n",
       "      <th>0</th>\n",
       "      <td>0</td>\n",
       "      <td>6.315296</td>\n",
       "      <td>1.842975</td>\n",
       "    </tr>\n",
       "    <tr>\n",
       "      <th>1</th>\n",
       "      <td>0</td>\n",
       "      <td>5.479770</td>\n",
       "      <td>1.701063</td>\n",
       "    </tr>\n",
       "    <tr>\n",
       "      <th>2</th>\n",
       "      <td>0</td>\n",
       "      <td>3.642170</td>\n",
       "      <td>1.292580</td>\n",
       "    </tr>\n",
       "    <tr>\n",
       "      <th>3</th>\n",
       "      <td>0</td>\n",
       "      <td>4.593337</td>\n",
       "      <td>1.524607</td>\n",
       "    </tr>\n",
       "    <tr>\n",
       "      <th>4</th>\n",
       "      <td>0</td>\n",
       "      <td>2.418158</td>\n",
       "      <td>0.883006</td>\n",
       "    </tr>\n",
       "  </tbody>\n",
       "</table>\n",
       "</div>"
      ],
      "text/plain": [
       "   male      wage     lwage\n",
       "0     0  6.315296  1.842975\n",
       "1     0  5.479770  1.701063\n",
       "2     0  3.642170  1.292580\n",
       "3     0  4.593337  1.524607\n",
       "4     0  2.418158  0.883006"
      ]
     },
     "execution_count": 21,
     "metadata": {},
     "output_type": "execute_result"
    }
   ],
   "source": [
    "wage.head()"
   ]
  },
  {
   "cell_type": "code",
   "execution_count": 22,
   "metadata": {},
   "outputs": [],
   "source": [
    "# n1 and n2\n",
    "n1 = wage['male'].value_counts()[0]\n",
    "n2 = wage['male'].value_counts()[1]\n",
    "\n",
    "# s1 and s2\n",
    "s1 = wage[wage['male'] == 0]['lwage'].std()\n",
    "s2 = wage[wage['male'] == 1]['lwage'].std()\n",
    "\n",
    "# T\n",
    "T = ((n1 * n2) / (n1 + n2)) ** 0.5 * (np.log(s1) - np.log(s2))\n",
    "\n",
    "# kappa hat\n",
    "wage = wage.sort_values('male')\n",
    "wage['lwage_gmean'] = wage.groupby('male')['lwage'].transform('mean')\n",
    "nominator = (n1 + n2) * ((wage['lwage'] - wage['lwage_gmean']) ** 4).sum()\n",
    "denominator = ((wage['lwage'] - wage['lwage_gmean']) ** 2).sum() ** 2\n",
    "kappa_hat = nominator / denominator\n",
    "\n",
    "# old stats and new stats for testing\n",
    "stats_old = (s1 ** 2)/ (s2 ** 2) # F(n1-1, n2-1)\n",
    "stats_new = T / ((kappa_hat - 1) ** 0.5) # standard normal"
   ]
  },
  {
   "cell_type": "code",
   "execution_count": 24,
   "metadata": {},
   "outputs": [
    {
     "data": {
      "text/plain": [
       "1.0858707722186252"
      ]
     },
     "execution_count": 24,
     "metadata": {},
     "output_type": "execute_result"
    }
   ],
   "source": [
    "stats_old"
   ]
  },
  {
   "cell_type": "code",
   "execution_count": 23,
   "metadata": {},
   "outputs": [
    {
     "data": {
      "text/plain": [
       "0.4676502470139186"
      ]
     },
     "execution_count": 23,
     "metadata": {},
     "output_type": "execute_result"
    }
   ],
   "source": [
    "stats_new"
   ]
  },
  {
   "cell_type": "code",
   "execution_count": null,
   "metadata": {},
   "outputs": [],
   "source": []
  }
 ],
 "metadata": {
  "kernelspec": {
   "display_name": "base",
   "language": "python",
   "name": "python3"
  },
  "language_info": {
   "codemirror_mode": {
    "name": "ipython",
    "version": 3
   },
   "file_extension": ".py",
   "mimetype": "text/x-python",
   "name": "python",
   "nbconvert_exporter": "python",
   "pygments_lexer": "ipython3",
   "version": "3.11.4"
  }
 },
 "nbformat": 4,
 "nbformat_minor": 2
}
